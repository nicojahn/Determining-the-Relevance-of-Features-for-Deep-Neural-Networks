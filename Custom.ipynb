{
 "cells": [
  {
   "cell_type": "markdown",
   "id": "c14c2dd8",
   "metadata": {},
   "source": [
    "# 3 Method"
   ]
  },
  {
   "cell_type": "code",
   "execution_count": 1,
   "id": "e0e5a0b1",
   "metadata": {
    "scrolled": true
   },
   "outputs": [],
   "source": [
    "#!python3 -m pip install -U tensorflow-gpu"
   ]
  },
  {
   "cell_type": "markdown",
   "id": "e05fa022",
   "metadata": {},
   "source": [
    "# Train custom NN"
   ]
  },
  {
   "cell_type": "code",
   "execution_count": 2,
   "id": "c93121ef",
   "metadata": {},
   "outputs": [
    {
     "name": "stderr",
     "output_type": "stream",
     "text": [
      "2021-12-02 10:02:41.665872: I tensorflow/core/platform/cpu_feature_guard.cc:142] This TensorFlow binary is optimized with oneAPI Deep Neural Network Library (oneDNN) to use the following CPU instructions in performance-critical operations:  SSE4.1 SSE4.2 AVX AVX2 FMA\n",
      "To enable them in other operations, rebuild TensorFlow with the appropriate compiler flags.\n",
      "2021-12-02 10:02:41.719229: I tensorflow/compiler/mlir/mlir_graph_optimization_pass.cc:116] None of the MLIR optimization passes are enabled (registered 2)\n",
      "2021-12-02 10:02:41.719640: I tensorflow/core/platform/profile_utils/cpu_utils.cc:112] CPU Frequency: 2596990000 Hz\n"
     ]
    },
    {
     "name": "stdout",
     "output_type": "stream",
     "text": [
      "Model: \"sequential\"\n",
      "_________________________________________________________________\n",
      "Layer (type)                 Output Shape              Param #   \n",
      "=================================================================\n",
      "conv2d (Conv2D)              (None, 6, 7, 1)           7         \n",
      "_________________________________________________________________\n",
      "global_max_pooling2d (Global (None, 1)                 0         \n",
      "=================================================================\n",
      "Total params: 7\n",
      "Trainable params: 7\n",
      "Non-trainable params: 0\n",
      "_________________________________________________________________\n",
      "None\n",
      "Epoch 1/3\n",
      "625/625 [==============================] - 1s 2ms/step - loss: 0.8771\n",
      "Epoch 2/3\n",
      "625/625 [==============================] - 1s 2ms/step - loss: 0.3066\n",
      "Epoch 3/3\n",
      "625/625 [==============================] - 1s 2ms/step - loss: 0.0394\n"
     ]
    },
    {
     "data": {
      "text/plain": [
       "<tensorflow.python.keras.callbacks.History at 0x7f7c3056d670>"
      ]
     },
     "execution_count": 2,
     "metadata": {},
     "output_type": "execute_result"
    }
   ],
   "source": [
    "import numpy as np\n",
    "background = np.zeros((8,8))\n",
    "kernel_size = (3,2)\n",
    "strides = (1,1)\n",
    "\n",
    "seed = 5\n",
    "\n",
    "def get_square(background):\n",
    "    square = np.zeros_like(background)\n",
    "    square[1:-1,[1,-2]] = 1\n",
    "    square[[1,-2],1:-1] = 1\n",
    "    return 0.9*square[..., np.newaxis]\n",
    "\n",
    "def get_cross(background):\n",
    "    cross = np.zeros_like(background)\n",
    "    cross[3:-3,1:-1] = 1\n",
    "    cross[1:-1,3:-3] = 1\n",
    "    return 0.9*cross[..., np.newaxis]\n",
    "\n",
    "training_data = np.asarray([get_square(background), get_cross(background)]).repeat(5_000, axis=0)\n",
    "np.random.seed(seed)\n",
    "training_data += np.random.uniform(0, 0.1, size=training_data.shape)\n",
    "training_labels = np.asarray([1, -1])[..., np.newaxis].repeat(5_000, axis=0)\n",
    "\n",
    "import tensorflow as tf\n",
    "\n",
    "physical_devices = tf.config.list_physical_devices('GPU') \n",
    "for gpu_instance in physical_devices: \n",
    "    tf.config.experimental.set_memory_growth(gpu_instance, True)\n",
    "\n",
    "tf.random.set_seed(seed)\n",
    "model = tf.keras.Sequential([\n",
    "    tf.keras.layers.Conv2D(1, kernel_size=kernel_size, strides=strides, input_shape=[8,8,1], padding='valid', use_bias=True),\n",
    "    tf.keras.layers.GlobalMaxPooling2D()\n",
    "])\n",
    "\n",
    "# Instead of random weights, why not use the 'proposed' weights?\n",
    "#model.layers[0].set_weights([np.array([ [[[-1]],[[-1]]], [[[1]],[[1]]], [[[-1]],[[-1]]] ]), np.array([-1])])\n",
    "\n",
    "model.compile(optimizer=\"sgd\", loss=\"mae\")\n",
    "print(model.summary())\n",
    "\n",
    "model.fit(training_data, training_labels, batch_size=16, epochs=3, shuffle=True)"
   ]
  },
  {
   "cell_type": "markdown",
   "id": "3cdafe39",
   "metadata": {},
   "source": [
    "### Print the kernel and the bias"
   ]
  },
  {
   "cell_type": "code",
   "execution_count": 3,
   "id": "e2578ed2",
   "metadata": {},
   "outputs": [
    {
     "name": "stdout",
     "output_type": "stream",
     "text": [
      "[[-0.89865404 -1.3615712 ]\n",
      " [ 0.91517675  1.367188  ]\n",
      " [-0.90292746 -1.3679376 ]]\n"
     ]
    },
    {
     "data": {
      "image/png": "[encoded data removed]",
      "text/plain": [
       "<Figure size 432x288 with 1 Axes>"
      ]
     },
     "metadata": {
      "needs_background": "light"
     },
     "output_type": "display_data"
    },
    {
     "name": "stdout",
     "output_type": "stream",
     "text": [
      "[[-1.0412523]]\n"
     ]
    },
    {
     "data": {
      "image/png": "[encoded data removed]",
      "text/plain": [
       "<Figure size 432x288 with 1 Axes>"
      ]
     },
     "metadata": {
      "needs_background": "light"
     },
     "output_type": "display_data"
    }
   ],
   "source": [
    "# The kernel could look like one of the expected patches\n",
    "# Everytime the model is trained, it's not like the one in the paper (more a combination)\n",
    "from matplotlib import pyplot as plt\n",
    "\n",
    "weights = np.squeeze(model.layers[0].weights[0].numpy())\n",
    "print(weights)\n",
    "plt.imshow(weights, vmin=-1, vmax=1, cmap=\"gray\")\n",
    "plt.show()\n",
    "\n",
    "bias = model.layers[0].bias\n",
    "if not bias is None:\n",
    "    bias = bias.numpy()[np.newaxis]\n",
    "    print(bias)\n",
    "    plt.imshow(bias, vmin=-1, vmax=1, cmap=\"gray\")\n",
    "    plt.show()"
   ]
  },
  {
   "cell_type": "markdown",
   "id": "63f0cf27",
   "metadata": {},
   "source": [
    "### Some prediction"
   ]
  },
  {
   "cell_type": "code",
   "execution_count": 4,
   "id": "f0be8d49",
   "metadata": {},
   "outputs": [
    {
     "name": "stdout",
     "output_type": "stream",
     "text": [
      "tf.Tensor([[1.0128759]], shape=(1, 1), dtype=float32)\n",
      "tf.Tensor([[-1.0213267]], shape=(1, 1), dtype=float32)\n"
     ]
    }
   ],
   "source": [
    "print(model(get_square(background)[np.newaxis])) # class 1\n",
    "print(model(get_cross(background)[np.newaxis])) # class -1"
   ]
  },
  {
   "cell_type": "markdown",
   "id": "feae5e5f",
   "metadata": {},
   "source": [
    "### Check 'test set' accuracy"
   ]
  },
  {
   "cell_type": "code",
   "execution_count": 5,
   "id": "61fcd0ab",
   "metadata": {},
   "outputs": [
    {
     "name": "stdout",
     "output_type": "stream",
     "text": [
      "              precision    recall  f1-score   support\n",
      "\n",
      "          -1       1.00      1.00      1.00      5000\n",
      "           1       1.00      1.00      1.00      5000\n",
      "\n",
      "    accuracy                           1.00     10000\n",
      "   macro avg       1.00      1.00      1.00     10000\n",
      "weighted avg       1.00      1.00      1.00     10000\n",
      "\n"
     ]
    }
   ],
   "source": [
    "# Test set accuracy is 1.0\n",
    "test_data = np.asarray([get_square(background), get_cross(background)]).repeat(5_000, axis=0)\n",
    "np.random.seed(seed)\n",
    "test_data += np.random.uniform(0, 0.1, size=test_data.shape)\n",
    "test_labels = np.asarray([1, -1])[...,np.newaxis].repeat(5_000, axis=0)\n",
    "\n",
    "from sklearn.metrics import classification_report\n",
    "predictions = model(test_data).numpy().round()\n",
    "print(classification_report(test_labels, predictions))"
   ]
  },
  {
   "cell_type": "markdown",
   "id": "531fcf17",
   "metadata": {},
   "source": [
    "# Extract individual unique patches"
   ]
  },
  {
   "cell_type": "code",
   "execution_count": 6,
   "id": "78c61782",
   "metadata": {},
   "outputs": [],
   "source": [
    "# from: https://www.geeksforgeeks.org/python-intersection-two-lists/\n",
    "def intersection(lst1, lst2):\n",
    "    return list(set(lst1) & set(lst2))\n",
    "\n",
    "def get_all_unique_patches(cropped_image, kernel_size, strides):\n",
    "    view_shape = tuple(\n",
    "        np.subtract(cropped_image.shape, kernel_size) + 1\n",
    "    ) + kernel_size\n",
    "\n",
    "    sub_matrices = np.lib.stride_tricks.as_strided(\n",
    "        cropped_image,\n",
    "        view_shape,\n",
    "        cropped_image.strides + cropped_image.strides\n",
    "    )\n",
    "    return np.unique(sub_matrices[::strides[0],::strides[1]].reshape((-1,*kernel_size)), axis=0)\n",
    "\n",
    "square_patches = get_all_unique_patches(get_square(background)[...,0], kernel_size, strides)\n",
    "cross_patches = get_all_unique_patches(get_cross(background)[...,0], kernel_size, strides)"
   ]
  },
  {
   "cell_type": "markdown",
   "id": "f4bf8f67",
   "metadata": {},
   "source": [
    "### Exclusive cross patches"
   ]
  },
  {
   "cell_type": "code",
   "execution_count": 7,
   "id": "aca67540",
   "metadata": {
    "scrolled": true
   },
   "outputs": [
    {
     "name": "stdout",
     "output_type": "stream",
     "text": [
      "[ 1  2  6  7 10 11 14 18 19 20 21]\n"
     ]
    },
    {
     "data": {
      "image/png": "[encoded data removed]",
      "text/plain": [
       "<Figure size 432x288 with 1 Axes>"
      ]
     },
     "metadata": {
      "needs_background": "light"
     },
     "output_type": "display_data"
    },
    {
     "data": {
      "image/png": "[encoded data removed]",
      "text/plain": [
       "<Figure size 432x288 with 1 Axes>"
      ]
     },
     "metadata": {
      "needs_background": "light"
     },
     "output_type": "display_data"
    },
    {
     "data": {
      "image/png": "[encoded data removed]",
      "text/plain": [
       "<Figure size 432x288 with 1 Axes>"
      ]
     },
     "metadata": {
      "needs_background": "light"
     },
     "output_type": "display_data"
    },
    {
     "data": {
      "image/png": "[encoded data removed]",
      "text/plain": [
       "<Figure size 432x288 with 1 Axes>"
      ]
     },
     "metadata": {
      "needs_background": "light"
     },
     "output_type": "display_data"
    },
    {
     "data": {
      "image/png": "[encoded data removed]",
      "text/plain": [
       "<Figure size 432x288 with 1 Axes>"
      ]
     },
     "metadata": {
      "needs_background": "light"
     },
     "output_type": "display_data"
    },
    {
     "data": {
      "image/png": "[encoded data removed]",
      "text/plain": [
       "<Figure size 432x288 with 1 Axes>"
      ]
     },
     "metadata": {
      "needs_background": "light"
     },
     "output_type": "display_data"
    },
    {
     "data": {
      "image/png": "[encoded data removed]",
      "text/plain": [
       "<Figure size 432x288 with 1 Axes>"
      ]
     },
     "metadata": {
      "needs_background": "light"
     },
     "output_type": "display_data"
    },
    {
     "data": {
      "image/png": "[encoded data removed]",
      "text/plain": [
       "<Figure size 432x288 with 1 Axes>"
      ]
     },
     "metadata": {
      "needs_background": "light"
     },
     "output_type": "display_data"
    },
    {
     "data": {
      "image/png": "[encoded data removed]",
      "text/plain": [
       "<Figure size 432x288 with 1 Axes>"
      ]
     },
     "metadata": {
      "needs_background": "light"
     },
     "output_type": "display_data"
    },
    {
     "data": {
      "image/png": "[encoded data removed]",
      "text/plain": [
       "<Figure size 432x288 with 1 Axes>"
      ]
     },
     "metadata": {
      "needs_background": "light"
     },
     "output_type": "display_data"
    },
    {
     "data": {
      "image/png": "[encoded data removed]",
      "text/plain": [
       "<Figure size 432x288 with 1 Axes>"
      ]
     },
     "metadata": {
      "needs_background": "light"
     },
     "output_type": "display_data"
    }
   ],
   "source": [
    "# Patches unique to the cross\n",
    "cross_indices, = np.where(\n",
    "    np.asarray([[np.allclose(square_p, cross_p) for square_p in square_patches] for cross_p in cross_patches])\n",
    "        .mean(axis=1) <= 0\n",
    ")\n",
    "\n",
    "print(cross_indices)\n",
    "for patch in cross_patches[cross_indices]:\n",
    "    plt.imshow(patch, vmin=0, vmax=1, cmap=\"gray\")\n",
    "    plt.show()\n",
    "    #break"
   ]
  },
  {
   "cell_type": "markdown",
   "id": "980575d6",
   "metadata": {},
   "source": [
    "### Exclusive cross patches"
   ]
  },
  {
   "cell_type": "code",
   "execution_count": 8,
   "id": "aeb7be57",
   "metadata": {
    "scrolled": false
   },
   "outputs": [
    {
     "name": "stdout",
     "output_type": "stream",
     "text": [
      "[ 4  5  6  8 10 12 14]\n"
     ]
    },
    {
     "data": {
      "image/png": "[encoded data removed]",
      "text/plain": [
       "<Figure size 432x288 with 1 Axes>"
      ]
     },
     "metadata": {
      "needs_background": "light"
     },
     "output_type": "display_data"
    },
    {
     "data": {
      "image/png": "[encoded data removed]",
      "text/plain": [
       "<Figure size 432x288 with 1 Axes>"
      ]
     },
     "metadata": {
      "needs_background": "light"
     },
     "output_type": "display_data"
    },
    {
     "data": {
      "image/png": "[encoded data removed]",
      "text/plain": [
       "<Figure size 432x288 with 1 Axes>"
      ]
     },
     "metadata": {
      "needs_background": "light"
     },
     "output_type": "display_data"
    },
    {
     "data": {
      "image/png": "[encoded data removed]",
      "text/plain": [
       "<Figure size 432x288 with 1 Axes>"
      ]
     },
     "metadata": {
      "needs_background": "light"
     },
     "output_type": "display_data"
    },
    {
     "data": {
      "image/png": "[encoded data removed]",
      "text/plain": [
       "<Figure size 432x288 with 1 Axes>"
      ]
     },
     "metadata": {
      "needs_background": "light"
     },
     "output_type": "display_data"
    },
    {
     "data": {
      "image/png": "[encoded data removed]",
      "text/plain": [
       "<Figure size 432x288 with 1 Axes>"
      ]
     },
     "metadata": {
      "needs_background": "light"
     },
     "output_type": "display_data"
    },
    {
     "data": {
      "image/png": "[encoded data removed]",
      "text/plain": [
       "<Figure size 432x288 with 1 Axes>"
      ]
     },
     "metadata": {
      "needs_background": "light"
     },
     "output_type": "display_data"
    }
   ],
   "source": [
    "# Patches unique to the square\n",
    "square_indices, = np.where(\n",
    "    np.asarray([[np.allclose(cross_p, square_p) for cross_p in cross_patches] for square_p in square_patches])\n",
    "        .mean(axis=1) <= 0\n",
    ")\n",
    "\n",
    "print(square_indices)\n",
    "square_indices = square_indices[[0,5,3,2,1,6,4]] # reorder in the same way the paper did\n",
    "for patch in square_patches[square_indices]:\n",
    "    plt.imshow(patch, vmin=0, vmax=1, cmap=\"gray\")\n",
    "    plt.show()\n",
    "    #break"
   ]
  },
  {
   "cell_type": "markdown",
   "id": "1f8b46fd",
   "metadata": {},
   "source": [
    "# Trying the evaluation (not simulative) on the square"
   ]
  },
  {
   "cell_type": "code",
   "execution_count": 9,
   "id": "4d617cb2",
   "metadata": {
    "scrolled": false
   },
   "outputs": [],
   "source": [
    "from sklearn.metrics import r2_score, classification_report\n",
    "from scipy import stats\n",
    "\n",
    "# actual NN weights\n",
    "weights_ = weights\n",
    "bias_ = bias[0][0]\n",
    "\n",
    "# NN reduction (only a single convolution) --> No 8x8x1 input image\n",
    "inference = lambda x: np.sum(weights_.reshape(-1) * x.reshape(-1)) + bias_\n",
    "\n",
    "#patches = np.concatenate([square_patches[square_indices], cross_patches[cross_indices]])\n",
    "patches = square_patches[square_indices]\n",
    "\n",
    "# currently predicting only on every patch once (you could also sample randomly multiple times with added noise)\n",
    "sample_idx = np.random.randint(0,patches.shape[0], 50)\n",
    "samples = []\n",
    "predictions = []\n",
    "classes = []\n",
    "for idx, patch in enumerate(patches[sample_idx]):\n",
    "    noise = np.random.uniform(0, 0.1, size=patch.shape)\n",
    "    samples += [sample_idx[idx]]\n",
    "    predictions += [inference(patch + noise)]\n",
    "    classes += [1 if sample_idx[idx] < square_patches[square_indices].shape[0] else -1]\n",
    "\n",
    "samples = np.asarray(samples).astype(float)[:,np.newaxis]\n",
    "predictions = np.asarray(predictions).astype(float)[:,np.newaxis]\n",
    "classes = np.asarray(classes).astype(float)[:,np.newaxis]"
   ]
  },
  {
   "cell_type": "code",
   "execution_count": 10,
   "id": "2f9c923c",
   "metadata": {
    "scrolled": false
   },
   "outputs": [
    {
     "name": "stdout",
     "output_type": "stream",
     "text": [
      "3.77 : 0.00\n",
      "-3.97 : 0.00\n",
      "-6.88 : 0.00\n",
      "2.48 : 0.02\n",
      "0.57 : 0.57\n",
      "1.85 : 0.07\n",
      "0.68 : 0.50\n"
     ]
    }
   ],
   "source": [
    "from scipy.stats import ttest_ind\n",
    "import numpy as np\n",
    "\n",
    "for idx, patch in enumerate(patches[:square_indices.shape[0]]):\n",
    "    \n",
    "    # prediction for the samples with the same id (could be used for larger simulative metrics)\n",
    "    identifier = np.asarray(sample_idx==idx)\n",
    "    non_identifier = np.asarray(sample_idx!=idx)\n",
    "    \n",
    "    is_pattern_sample = np.array(samples)\n",
    "    is_pattern_sample[identifier] = 1\n",
    "    is_pattern_sample[non_identifier] = -1\n",
    "\n",
    "    #classes_ = np.array(classes)\n",
    "    #classes_[identifier] = 1\n",
    "    #classes_[non_identifier] = -1\n",
    "\n",
    "    class_predictions = np.array(predictions)\n",
    "    \n",
    "    ttest, pval = ttest_ind(class_predictions[is_pattern_sample==1], class_predictions[is_pattern_sample==-1])\n",
    "    print(f\"{ttest:.02f} : {pval:.02f}\")\n",
    "\n",
    "    #print(classification_report(labels, predictions))\n",
    "    #print(r2_score(labels, predictions))\n",
    "    #print(stats.pearsonr(labels, predictions))\n",
    "    #print()"
   ]
  },
  {
   "cell_type": "markdown",
   "id": "12612fb8",
   "metadata": {},
   "source": [
    "# Open questions:\n",
    "* Table 1: \"The light spots have value one and the dark spots have value minus one.\" vs page 5 \"The dark pixels have a value of 0.0, and the light pixels have a value of 0.9 [...]\"\n",
    "* Their proposed pattern is stable, but arriving at the exact mentioned pattern is nearly impossible (weights are almost always a combination of the distinct patterns)\n",
    "* Any formular for that \"[...] significance of a partial correlation test as a measure for [...]\"?\n",
    "* Any formular for that \"[...] coefficient of determination between the feature X and the prediction P.\"?"
   ]
  }
 ],
 "metadata": {
  "kernelspec": {
   "display_name": "Python 3 (ipykernel)",
   "language": "python",
   "name": "python3"
  },
  "language_info": {
   "codemirror_mode": {
    "name": "ipython",
    "version": 3
   },
   "file_extension": ".py",
   "mimetype": "text/x-python",
   "name": "python",
   "nbconvert_exporter": "python",
   "pygments_lexer": "ipython3",
   "version": "3.9.6"
  }
 },
 "nbformat": 4,
 "nbformat_minor": 5
}
